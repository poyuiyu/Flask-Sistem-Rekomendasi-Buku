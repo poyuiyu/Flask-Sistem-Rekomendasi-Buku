{
  "nbformat": 4,
  "nbformat_minor": 0,
  "metadata": {
    "colab": {
      "provenance": []
    },
    "kernelspec": {
      "name": "python3",
      "display_name": "Python 3"
    },
    "language_info": {
      "name": "python"
    }
  },
  "cells": [
    {
      "cell_type": "code",
      "execution_count": null,
      "metadata": {
        "id": "feYMPPjAqm0O"
      },
      "outputs": [],
      "source": [
        "import pandas as pd\n",
        "import numpy as np\n",
        "from sklearn.metrics.pairwise import cosine_similarity\n",
        "from sklearn.feature_extraction.text import TfidfVectorizer\n",
        "from nltk.corpus import stopwords\n",
        "import re\n",
        "import random\n"
      ]
    },
    {
      "cell_type": "code",
      "source": [
        "df = pd.read_csv('/content/hotel_bandung_english.csv')\n",
        "df.head(100)"
      ],
      "metadata": {
        "colab": {
          "base_uri": "https://localhost:8080/",
          "height": 641
        },
        "id": "WWq6Cp7er81Y",
        "outputId": "ad3713c1-9725-4909-9c94-d79841502388"
      },
      "execution_count": null,
      "outputs": [
        {
          "output_type": "execute_result",
          "data": {
            "text/plain": [
              "                                 name  \\\n",
              "0   Capital O 253 Topas Galeria Hotel   \n",
              "1     Sheraton Bandung Hotel & Towers   \n",
              "2      OYO 794 Ln 9 Bandung Residence   \n",
              "3                    OYO 226 LJ hotel   \n",
              "4             OYO 230 Maleo Residence   \n",
              "..                                ...   \n",
              "95                    De Batara Hotel   \n",
              "96            Hemangini Hotel Bandung   \n",
              "97                     Vio Cihampelas   \n",
              "98                    OYO 260 Home 33   \n",
              "99         D&D Backpackers Guesthouse   \n",
              "\n",
              "                                              address  \\\n",
              "0   Jl. Dr. Djundjunan No. 153, 40173 Bandung, Ind...   \n",
              "1       Jl. Ir H Juanda 390, 40135 Bandung, Indonesia   \n",
              "2   Jalan Lemahnendeut No 9, Sukajadi, 40164 Bandu...   \n",
              "3   Jl. Malabar No.2, Malabar, Lengkong, Dago, Asi...   \n",
              "4   JI. Dangeur Indah II No. 15, Sukagalih, Sukaja...   \n",
              "..                                                ...   \n",
              "95  Jl. Cihampelas no. 112, Bandung Wetan, 40131 B...   \n",
              "96    Jl. Setiabudhi No. 66, 40141 Bandung, Indonesia   \n",
              "97   Jl. Cihampelas No. 108, 40116 Bandung, Indonesia   \n",
              "98  Jl. Terusan Babakan Jeruk IV No.33, Sukagalih,...   \n",
              "99  Jalan Hegarsari III No.10, 40141 Bandung, Indo...   \n",
              "\n",
              "                                          description  \n",
              "0   A 10-minute drive from Bandung Airport, Topas ...  \n",
              "1   Sheraton Hotel & Towers offers 5-star accommod...  \n",
              "2   Conveniently located in Sukajadi, Bandung, OYO...  \n",
              "3   Featuring a shared lounge, OYO 226 LJ hotel is...  \n",
              "4   Attractively set in the Sukajadi district of B...  \n",
              "..                                                ...  \n",
              "95  In a great location in the center of Bandung C...  \n",
              "96  Set in Bandung, Hemangini Hotel Bandung offers...  \n",
              "97  A 3-minute walk from Cihampelas Walk and the w...  \n",
              "98  Located in Bandung, 4.5 km from Villa Isola, O...  \n",
              "99  Located in Bandung and with Villa Isola reacha...  \n",
              "\n",
              "[100 rows x 3 columns]"
            ],
            "text/html": [
              "\n",
              "  <div id=\"df-40ce6fa9-ad76-427c-9ab6-a6952e9d7d58\">\n",
              "    <div class=\"colab-df-container\">\n",
              "      <div>\n",
              "<style scoped>\n",
              "    .dataframe tbody tr th:only-of-type {\n",
              "        vertical-align: middle;\n",
              "    }\n",
              "\n",
              "    .dataframe tbody tr th {\n",
              "        vertical-align: top;\n",
              "    }\n",
              "\n",
              "    .dataframe thead th {\n",
              "        text-align: right;\n",
              "    }\n",
              "</style>\n",
              "<table border=\"1\" class=\"dataframe\">\n",
              "  <thead>\n",
              "    <tr style=\"text-align: right;\">\n",
              "      <th></th>\n",
              "      <th>name</th>\n",
              "      <th>address</th>\n",
              "      <th>description</th>\n",
              "    </tr>\n",
              "  </thead>\n",
              "  <tbody>\n",
              "    <tr>\n",
              "      <th>0</th>\n",
              "      <td>Capital O 253 Topas Galeria Hotel</td>\n",
              "      <td>Jl. Dr. Djundjunan No. 153, 40173 Bandung, Ind...</td>\n",
              "      <td>A 10-minute drive from Bandung Airport, Topas ...</td>\n",
              "    </tr>\n",
              "    <tr>\n",
              "      <th>1</th>\n",
              "      <td>Sheraton Bandung Hotel &amp; Towers</td>\n",
              "      <td>Jl. Ir H Juanda 390, 40135 Bandung, Indonesia</td>\n",
              "      <td>Sheraton Hotel &amp; Towers offers 5-star accommod...</td>\n",
              "    </tr>\n",
              "    <tr>\n",
              "      <th>2</th>\n",
              "      <td>OYO 794 Ln 9 Bandung Residence</td>\n",
              "      <td>Jalan Lemahnendeut No 9, Sukajadi, 40164 Bandu...</td>\n",
              "      <td>Conveniently located in Sukajadi, Bandung, OYO...</td>\n",
              "    </tr>\n",
              "    <tr>\n",
              "      <th>3</th>\n",
              "      <td>OYO 226 LJ hotel</td>\n",
              "      <td>Jl. Malabar No.2, Malabar, Lengkong, Dago, Asi...</td>\n",
              "      <td>Featuring a shared lounge, OYO 226 LJ hotel is...</td>\n",
              "    </tr>\n",
              "    <tr>\n",
              "      <th>4</th>\n",
              "      <td>OYO 230 Maleo Residence</td>\n",
              "      <td>JI. Dangeur Indah II No. 15, Sukagalih, Sukaja...</td>\n",
              "      <td>Attractively set in the Sukajadi district of B...</td>\n",
              "    </tr>\n",
              "    <tr>\n",
              "      <th>...</th>\n",
              "      <td>...</td>\n",
              "      <td>...</td>\n",
              "      <td>...</td>\n",
              "    </tr>\n",
              "    <tr>\n",
              "      <th>95</th>\n",
              "      <td>De Batara Hotel</td>\n",
              "      <td>Jl. Cihampelas no. 112, Bandung Wetan, 40131 B...</td>\n",
              "      <td>In a great location in the center of Bandung C...</td>\n",
              "    </tr>\n",
              "    <tr>\n",
              "      <th>96</th>\n",
              "      <td>Hemangini Hotel Bandung</td>\n",
              "      <td>Jl. Setiabudhi No. 66, 40141 Bandung, Indonesia</td>\n",
              "      <td>Set in Bandung, Hemangini Hotel Bandung offers...</td>\n",
              "    </tr>\n",
              "    <tr>\n",
              "      <th>97</th>\n",
              "      <td>Vio Cihampelas</td>\n",
              "      <td>Jl. Cihampelas No. 108, 40116 Bandung, Indonesia</td>\n",
              "      <td>A 3-minute walk from Cihampelas Walk and the w...</td>\n",
              "    </tr>\n",
              "    <tr>\n",
              "      <th>98</th>\n",
              "      <td>OYO 260 Home 33</td>\n",
              "      <td>Jl. Terusan Babakan Jeruk IV No.33, Sukagalih,...</td>\n",
              "      <td>Located in Bandung, 4.5 km from Villa Isola, O...</td>\n",
              "    </tr>\n",
              "    <tr>\n",
              "      <th>99</th>\n",
              "      <td>D&amp;D Backpackers Guesthouse</td>\n",
              "      <td>Jalan Hegarsari III No.10, 40141 Bandung, Indo...</td>\n",
              "      <td>Located in Bandung and with Villa Isola reacha...</td>\n",
              "    </tr>\n",
              "  </tbody>\n",
              "</table>\n",
              "<p>100 rows × 3 columns</p>\n",
              "</div>\n",
              "      <button class=\"colab-df-convert\" onclick=\"convertToInteractive('df-40ce6fa9-ad76-427c-9ab6-a6952e9d7d58')\"\n",
              "              title=\"Convert this dataframe to an interactive table.\"\n",
              "              style=\"display:none;\">\n",
              "        \n",
              "  <svg xmlns=\"http://www.w3.org/2000/svg\" height=\"24px\"viewBox=\"0 0 24 24\"\n",
              "       width=\"24px\">\n",
              "    <path d=\"M0 0h24v24H0V0z\" fill=\"none\"/>\n",
              "    <path d=\"M18.56 5.44l.94 2.06.94-2.06 2.06-.94-2.06-.94-.94-2.06-.94 2.06-2.06.94zm-11 1L8.5 8.5l.94-2.06 2.06-.94-2.06-.94L8.5 2.5l-.94 2.06-2.06.94zm10 10l.94 2.06.94-2.06 2.06-.94-2.06-.94-.94-2.06-.94 2.06-2.06.94z\"/><path d=\"M17.41 7.96l-1.37-1.37c-.4-.4-.92-.59-1.43-.59-.52 0-1.04.2-1.43.59L10.3 9.45l-7.72 7.72c-.78.78-.78 2.05 0 2.83L4 21.41c.39.39.9.59 1.41.59.51 0 1.02-.2 1.41-.59l7.78-7.78 2.81-2.81c.8-.78.8-2.07 0-2.86zM5.41 20L4 18.59l7.72-7.72 1.47 1.35L5.41 20z\"/>\n",
              "  </svg>\n",
              "      </button>\n",
              "      \n",
              "  <style>\n",
              "    .colab-df-container {\n",
              "      display:flex;\n",
              "      flex-wrap:wrap;\n",
              "      gap: 12px;\n",
              "    }\n",
              "\n",
              "    .colab-df-convert {\n",
              "      background-color: #E8F0FE;\n",
              "      border: none;\n",
              "      border-radius: 50%;\n",
              "      cursor: pointer;\n",
              "      display: none;\n",
              "      fill: #1967D2;\n",
              "      height: 32px;\n",
              "      padding: 0 0 0 0;\n",
              "      width: 32px;\n",
              "    }\n",
              "\n",
              "    .colab-df-convert:hover {\n",
              "      background-color: #E2EBFA;\n",
              "      box-shadow: 0px 1px 2px rgba(60, 64, 67, 0.3), 0px 1px 3px 1px rgba(60, 64, 67, 0.15);\n",
              "      fill: #174EA6;\n",
              "    }\n",
              "\n",
              "    [theme=dark] .colab-df-convert {\n",
              "      background-color: #3B4455;\n",
              "      fill: #D2E3FC;\n",
              "    }\n",
              "\n",
              "    [theme=dark] .colab-df-convert:hover {\n",
              "      background-color: #434B5C;\n",
              "      box-shadow: 0px 1px 3px 1px rgba(0, 0, 0, 0.15);\n",
              "      filter: drop-shadow(0px 1px 2px rgba(0, 0, 0, 0.3));\n",
              "      fill: #FFFFFF;\n",
              "    }\n",
              "  </style>\n",
              "\n",
              "      <script>\n",
              "        const buttonEl =\n",
              "          document.querySelector('#df-40ce6fa9-ad76-427c-9ab6-a6952e9d7d58 button.colab-df-convert');\n",
              "        buttonEl.style.display =\n",
              "          google.colab.kernel.accessAllowed ? 'block' : 'none';\n",
              "\n",
              "        async function convertToInteractive(key) {\n",
              "          const element = document.querySelector('#df-40ce6fa9-ad76-427c-9ab6-a6952e9d7d58');\n",
              "          const dataTable =\n",
              "            await google.colab.kernel.invokeFunction('convertToInteractive',\n",
              "                                                     [key], {});\n",
              "          if (!dataTable) return;\n",
              "\n",
              "          const docLinkHtml = 'Like what you see? Visit the ' +\n",
              "            '<a target=\"_blank\" href=https://colab.research.google.com/notebooks/data_table.ipynb>data table notebook</a>'\n",
              "            + ' to learn more about interactive tables.';\n",
              "          element.innerHTML = '';\n",
              "          dataTable['output_type'] = 'display_data';\n",
              "          await google.colab.output.renderOutput(dataTable, element);\n",
              "          const docLink = document.createElement('div');\n",
              "          docLink.innerHTML = docLinkHtml;\n",
              "          element.appendChild(docLink);\n",
              "        }\n",
              "      </script>\n",
              "    </div>\n",
              "  </div>\n",
              "  "
            ]
          },
          "metadata": {},
          "execution_count": 35
        }
      ]
    },
    {
      "cell_type": "code",
      "source": [
        "df.describe()"
      ],
      "metadata": {
        "colab": {
          "base_uri": "https://localhost:8080/",
          "height": 236
        },
        "id": "-B0fODP4sMwc",
        "outputId": "f7c85191-a837-4943-8995-139000459ec4"
      },
      "execution_count": null,
      "outputs": [
        {
          "output_type": "execute_result",
          "data": {
            "text/plain": [
              "                                  name  \\\n",
              "count                              105   \n",
              "unique                             101   \n",
              "top     OYO 794 Ln 9 Bandung Residence   \n",
              "freq                                 3   \n",
              "\n",
              "                                                  address  \\\n",
              "count                                                 105   \n",
              "unique                                                102   \n",
              "top     Jalan Lemahnendeut No 9, Sukajadi, 40164 Bandu...   \n",
              "freq                                                    3   \n",
              "\n",
              "                                              description  \n",
              "count                                                 105  \n",
              "unique                                                103  \n",
              "top     Conveniently located in Sukajadi, Bandung, OYO...  \n",
              "freq                                                    2  "
            ],
            "text/html": [
              "\n",
              "  <div id=\"df-7ade9037-6830-49ba-922d-93e358dfaedb\">\n",
              "    <div class=\"colab-df-container\">\n",
              "      <div>\n",
              "<style scoped>\n",
              "    .dataframe tbody tr th:only-of-type {\n",
              "        vertical-align: middle;\n",
              "    }\n",
              "\n",
              "    .dataframe tbody tr th {\n",
              "        vertical-align: top;\n",
              "    }\n",
              "\n",
              "    .dataframe thead th {\n",
              "        text-align: right;\n",
              "    }\n",
              "</style>\n",
              "<table border=\"1\" class=\"dataframe\">\n",
              "  <thead>\n",
              "    <tr style=\"text-align: right;\">\n",
              "      <th></th>\n",
              "      <th>name</th>\n",
              "      <th>address</th>\n",
              "      <th>description</th>\n",
              "    </tr>\n",
              "  </thead>\n",
              "  <tbody>\n",
              "    <tr>\n",
              "      <th>count</th>\n",
              "      <td>105</td>\n",
              "      <td>105</td>\n",
              "      <td>105</td>\n",
              "    </tr>\n",
              "    <tr>\n",
              "      <th>unique</th>\n",
              "      <td>101</td>\n",
              "      <td>102</td>\n",
              "      <td>103</td>\n",
              "    </tr>\n",
              "    <tr>\n",
              "      <th>top</th>\n",
              "      <td>OYO 794 Ln 9 Bandung Residence</td>\n",
              "      <td>Jalan Lemahnendeut No 9, Sukajadi, 40164 Bandu...</td>\n",
              "      <td>Conveniently located in Sukajadi, Bandung, OYO...</td>\n",
              "    </tr>\n",
              "    <tr>\n",
              "      <th>freq</th>\n",
              "      <td>3</td>\n",
              "      <td>3</td>\n",
              "      <td>2</td>\n",
              "    </tr>\n",
              "  </tbody>\n",
              "</table>\n",
              "</div>\n",
              "      <button class=\"colab-df-convert\" onclick=\"convertToInteractive('df-7ade9037-6830-49ba-922d-93e358dfaedb')\"\n",
              "              title=\"Convert this dataframe to an interactive table.\"\n",
              "              style=\"display:none;\">\n",
              "        \n",
              "  <svg xmlns=\"http://www.w3.org/2000/svg\" height=\"24px\"viewBox=\"0 0 24 24\"\n",
              "       width=\"24px\">\n",
              "    <path d=\"M0 0h24v24H0V0z\" fill=\"none\"/>\n",
              "    <path d=\"M18.56 5.44l.94 2.06.94-2.06 2.06-.94-2.06-.94-.94-2.06-.94 2.06-2.06.94zm-11 1L8.5 8.5l.94-2.06 2.06-.94-2.06-.94L8.5 2.5l-.94 2.06-2.06.94zm10 10l.94 2.06.94-2.06 2.06-.94-2.06-.94-.94-2.06-.94 2.06-2.06.94z\"/><path d=\"M17.41 7.96l-1.37-1.37c-.4-.4-.92-.59-1.43-.59-.52 0-1.04.2-1.43.59L10.3 9.45l-7.72 7.72c-.78.78-.78 2.05 0 2.83L4 21.41c.39.39.9.59 1.41.59.51 0 1.02-.2 1.41-.59l7.78-7.78 2.81-2.81c.8-.78.8-2.07 0-2.86zM5.41 20L4 18.59l7.72-7.72 1.47 1.35L5.41 20z\"/>\n",
              "  </svg>\n",
              "      </button>\n",
              "      \n",
              "  <style>\n",
              "    .colab-df-container {\n",
              "      display:flex;\n",
              "      flex-wrap:wrap;\n",
              "      gap: 12px;\n",
              "    }\n",
              "\n",
              "    .colab-df-convert {\n",
              "      background-color: #E8F0FE;\n",
              "      border: none;\n",
              "      border-radius: 50%;\n",
              "      cursor: pointer;\n",
              "      display: none;\n",
              "      fill: #1967D2;\n",
              "      height: 32px;\n",
              "      padding: 0 0 0 0;\n",
              "      width: 32px;\n",
              "    }\n",
              "\n",
              "    .colab-df-convert:hover {\n",
              "      background-color: #E2EBFA;\n",
              "      box-shadow: 0px 1px 2px rgba(60, 64, 67, 0.3), 0px 1px 3px 1px rgba(60, 64, 67, 0.15);\n",
              "      fill: #174EA6;\n",
              "    }\n",
              "\n",
              "    [theme=dark] .colab-df-convert {\n",
              "      background-color: #3B4455;\n",
              "      fill: #D2E3FC;\n",
              "    }\n",
              "\n",
              "    [theme=dark] .colab-df-convert:hover {\n",
              "      background-color: #434B5C;\n",
              "      box-shadow: 0px 1px 3px 1px rgba(0, 0, 0, 0.15);\n",
              "      filter: drop-shadow(0px 1px 2px rgba(0, 0, 0, 0.3));\n",
              "      fill: #FFFFFF;\n",
              "    }\n",
              "  </style>\n",
              "\n",
              "      <script>\n",
              "        const buttonEl =\n",
              "          document.querySelector('#df-7ade9037-6830-49ba-922d-93e358dfaedb button.colab-df-convert');\n",
              "        buttonEl.style.display =\n",
              "          google.colab.kernel.accessAllowed ? 'block' : 'none';\n",
              "\n",
              "        async function convertToInteractive(key) {\n",
              "          const element = document.querySelector('#df-7ade9037-6830-49ba-922d-93e358dfaedb');\n",
              "          const dataTable =\n",
              "            await google.colab.kernel.invokeFunction('convertToInteractive',\n",
              "                                                     [key], {});\n",
              "          if (!dataTable) return;\n",
              "\n",
              "          const docLinkHtml = 'Like what you see? Visit the ' +\n",
              "            '<a target=\"_blank\" href=https://colab.research.google.com/notebooks/data_table.ipynb>data table notebook</a>'\n",
              "            + ' to learn more about interactive tables.';\n",
              "          element.innerHTML = '';\n",
              "          dataTable['output_type'] = 'display_data';\n",
              "          await google.colab.output.renderOutput(dataTable, element);\n",
              "          const docLink = document.createElement('div');\n",
              "          docLink.innerHTML = docLinkHtml;\n",
              "          element.appendChild(docLink);\n",
              "        }\n",
              "      </script>\n",
              "    </div>\n",
              "  </div>\n",
              "  "
            ]
          },
          "metadata": {},
          "execution_count": 36
        }
      ]
    },
    {
      "cell_type": "code",
      "source": [
        "df.info()"
      ],
      "metadata": {
        "colab": {
          "base_uri": "https://localhost:8080/"
        },
        "id": "ka2oWhkasPa4",
        "outputId": "b189a838-1b76-4758-9d15-51236eec0b14"
      },
      "execution_count": null,
      "outputs": [
        {
          "output_type": "stream",
          "name": "stdout",
          "text": [
            "<class 'pandas.core.frame.DataFrame'>\n",
            "RangeIndex: 105 entries, 0 to 104\n",
            "Data columns (total 3 columns):\n",
            " #   Column       Non-Null Count  Dtype \n",
            "---  ------       --------------  ----- \n",
            " 0   name         105 non-null    object\n",
            " 1   address      105 non-null    object\n",
            " 2   description  105 non-null    object\n",
            "dtypes: object(3)\n",
            "memory usage: 2.6+ KB\n"
          ]
        }
      ]
    },
    {
      "cell_type": "code",
      "source": [
        "def print_description(index):\n",
        "  example = df[df.index == index][['description', 'name', 'address']].values[0]\n",
        "  if len(example) > 0:\n",
        "    print(example[0])\n",
        "    print('Nama:', example[1])\n",
        "    print('Alamat:', example[2])"
      ],
      "metadata": {
        "id": "6c1SbBnKsXMO"
      },
      "execution_count": null,
      "outputs": []
    },
    {
      "cell_type": "code",
      "source": [
        "print_description(1)"
      ],
      "metadata": {
        "colab": {
          "base_uri": "https://localhost:8080/"
        },
        "id": "c6Y1OX8As2dM",
        "outputId": "76c5eda7-34e9-4824-f85e-61c9ac551dfb"
      },
      "execution_count": null,
      "outputs": [
        {
          "output_type": "stream",
          "name": "stdout",
          "text": [
            "Sheraton Hotel & Towers offers 5-star accommodation in the middle of a green landscape in Bandung. All spacious rooms come with a flat-screen cable TV. The hotel offers an outdoor pool, spa center and restaurant with mountain views. Wi-Fi access is available free in all areas of the hotel. Elegant rooms have modern interiors, light wood furnishings and large windows. Each provides a comfortable seating area, DVD player and private bathroom with shower. You can work out in the gym or enjoy body treatments at the spa. Reception staff are ready to serve your needs for 24 hours. International and Asian dishes are offered at Feast Restaurant, while soft drinks are served at Samsara Lounge. A variety of cocktails and snacks are also available at Poolside Terrace. Sheraton Bandung Hotel & Towers is a 10-minute drive from Juanda Culture Park and Dago area, where various factory outlets are located. Husein Sastranegara Airport is a 30-minute drive away.\n",
            "Nama: Sheraton Bandung Hotel & Towers\n",
            "Alamat: Jl. Ir H Juanda 390, 40135 Bandung, Indonesia\n"
          ]
        }
      ]
    },
    {
      "cell_type": "code",
      "source": [
        "print_description(50)"
      ],
      "metadata": {
        "colab": {
          "base_uri": "https://localhost:8080/"
        },
        "id": "JfjLFD4ztE-G",
        "outputId": "2d11f6ff-7a32-4187-b33f-2b98b52b1f82"
      },
      "execution_count": null,
      "outputs": [
        {
          "output_type": "stream",
          "name": "stdout",
          "text": [
            "Featuring an outdoor pool and a restaurant, House-Sangkuriang is conveniently located just a 5-minute walk from Dago’s factory outlets. It has a 24-hour front desk and provides free Wi-Fi access in all areas. Elegant and warmly lit, the air-conditioned rooms in House-Sangkuriang include hardwood floors. A flat-screen satellite TV, an electric kettle and a free one-time minibar are among the in-room comforts, and a shower, slippers and a hairdryer are included in the private bathrooms. The hotel also serves daily afternoon tea in the lobby and on the pool terrace. Cihampelas Walk Mall is a 10-minute drive from the property, and Husein Sastranegara Airport is a 20-minute drive away. Airport transportation can be arranged upon request. The staff at the front desk can assist with valet parking and luggage storage. Housing a business center, the hotel also provides laundry service for a fee. International dishes are served at Dining Room. Guests can also dine in the comfort of their rooms.\n",
            "Nama: House Sangkuriang\n",
            "Alamat: Jl. Sangkuriang no.1 Dago, Kecamatan Coblong, 40135 Bandung, Indonesia\n"
          ]
        }
      ]
    },
    {
      "cell_type": "code",
      "source": [
        "import nltk\n",
        "nltk.download('stopwords')\n",
        "\n",
        "clean_spcl = re.compile('[/(){}\\[\\]\\|@,;]')\n",
        "clean_symbol = re.compile('[^0-9a-z #+_]')\n",
        "stopworda = set(stopwords.words('english'))\n",
        "\n",
        "def clean_text(text):\n",
        "  text = text.lower()\n",
        "  text = clean_spcl.sub(' ', text)\n",
        "  text = clean_symbol.sub(' ', text)\n",
        "  text = ' '.join(word for word in text.split() if word not in stopworda)\n",
        "  return text"
      ],
      "metadata": {
        "colab": {
          "base_uri": "https://localhost:8080/"
        },
        "id": "0y2tPsTctTkf",
        "outputId": "fdce765d-2a92-467e-f750-45c706b3bc9f"
      },
      "execution_count": null,
      "outputs": [
        {
          "output_type": "stream",
          "name": "stderr",
          "text": [
            "[nltk_data] Downloading package stopwords to /root/nltk_data...\n",
            "[nltk_data]   Package stopwords is already up-to-date!\n"
          ]
        }
      ]
    },
    {
      "cell_type": "code",
      "source": [
        "df['desc_clean'] = df['description'].apply(clean_text)\n",
        "df.head()"
      ],
      "metadata": {
        "colab": {
          "base_uri": "https://localhost:8080/",
          "height": 424
        },
        "id": "g1A5mJ1KuQaV",
        "outputId": "7a5bae0a-20de-4414-e436-0bf0ab04c1a1"
      },
      "execution_count": null,
      "outputs": [
        {
          "output_type": "execute_result",
          "data": {
            "text/plain": [
              "                                name  \\\n",
              "0  Capital O 253 Topas Galeria Hotel   \n",
              "1    Sheraton Bandung Hotel & Towers   \n",
              "2     OYO 794 Ln 9 Bandung Residence   \n",
              "3                   OYO 226 LJ hotel   \n",
              "4            OYO 230 Maleo Residence   \n",
              "\n",
              "                                             address  \\\n",
              "0  Jl. Dr. Djundjunan No. 153, 40173 Bandung, Ind...   \n",
              "1      Jl. Ir H Juanda 390, 40135 Bandung, Indonesia   \n",
              "2  Jalan Lemahnendeut No 9, Sukajadi, 40164 Bandu...   \n",
              "3  Jl. Malabar No.2, Malabar, Lengkong, Dago, Asi...   \n",
              "4  JI. Dangeur Indah II No. 15, Sukagalih, Sukaja...   \n",
              "\n",
              "                                         description  \\\n",
              "0  A 10-minute drive from Bandung Airport, Topas ...   \n",
              "1  Sheraton Hotel & Towers offers 5-star accommod...   \n",
              "2  Conveniently located in Sukajadi, Bandung, OYO...   \n",
              "3  Featuring a shared lounge, OYO 226 LJ hotel is...   \n",
              "4  Attractively set in the Sukajadi district of B...   \n",
              "\n",
              "                                          desc_clean  \n",
              "0  10 minute drive bandung airport topas galeria ...  \n",
              "1  sheraton hotel towers offers 5 star accommodat...  \n",
              "2  conveniently located sukajadi bandung oyo 794 ...  \n",
              "3  featuring shared lounge oyo 226 lj hotel locat...  \n",
              "4  attractively set sukajadi district bandung oyo...  "
            ],
            "text/html": [
              "\n",
              "  <div id=\"df-74da5e6f-02ba-4781-aad2-935419118e8d\">\n",
              "    <div class=\"colab-df-container\">\n",
              "      <div>\n",
              "<style scoped>\n",
              "    .dataframe tbody tr th:only-of-type {\n",
              "        vertical-align: middle;\n",
              "    }\n",
              "\n",
              "    .dataframe tbody tr th {\n",
              "        vertical-align: top;\n",
              "    }\n",
              "\n",
              "    .dataframe thead th {\n",
              "        text-align: right;\n",
              "    }\n",
              "</style>\n",
              "<table border=\"1\" class=\"dataframe\">\n",
              "  <thead>\n",
              "    <tr style=\"text-align: right;\">\n",
              "      <th></th>\n",
              "      <th>name</th>\n",
              "      <th>address</th>\n",
              "      <th>description</th>\n",
              "      <th>desc_clean</th>\n",
              "    </tr>\n",
              "  </thead>\n",
              "  <tbody>\n",
              "    <tr>\n",
              "      <th>0</th>\n",
              "      <td>Capital O 253 Topas Galeria Hotel</td>\n",
              "      <td>Jl. Dr. Djundjunan No. 153, 40173 Bandung, Ind...</td>\n",
              "      <td>A 10-minute drive from Bandung Airport, Topas ...</td>\n",
              "      <td>10 minute drive bandung airport topas galeria ...</td>\n",
              "    </tr>\n",
              "    <tr>\n",
              "      <th>1</th>\n",
              "      <td>Sheraton Bandung Hotel &amp; Towers</td>\n",
              "      <td>Jl. Ir H Juanda 390, 40135 Bandung, Indonesia</td>\n",
              "      <td>Sheraton Hotel &amp; Towers offers 5-star accommod...</td>\n",
              "      <td>sheraton hotel towers offers 5 star accommodat...</td>\n",
              "    </tr>\n",
              "    <tr>\n",
              "      <th>2</th>\n",
              "      <td>OYO 794 Ln 9 Bandung Residence</td>\n",
              "      <td>Jalan Lemahnendeut No 9, Sukajadi, 40164 Bandu...</td>\n",
              "      <td>Conveniently located in Sukajadi, Bandung, OYO...</td>\n",
              "      <td>conveniently located sukajadi bandung oyo 794 ...</td>\n",
              "    </tr>\n",
              "    <tr>\n",
              "      <th>3</th>\n",
              "      <td>OYO 226 LJ hotel</td>\n",
              "      <td>Jl. Malabar No.2, Malabar, Lengkong, Dago, Asi...</td>\n",
              "      <td>Featuring a shared lounge, OYO 226 LJ hotel is...</td>\n",
              "      <td>featuring shared lounge oyo 226 lj hotel locat...</td>\n",
              "    </tr>\n",
              "    <tr>\n",
              "      <th>4</th>\n",
              "      <td>OYO 230 Maleo Residence</td>\n",
              "      <td>JI. Dangeur Indah II No. 15, Sukagalih, Sukaja...</td>\n",
              "      <td>Attractively set in the Sukajadi district of B...</td>\n",
              "      <td>attractively set sukajadi district bandung oyo...</td>\n",
              "    </tr>\n",
              "  </tbody>\n",
              "</table>\n",
              "</div>\n",
              "      <button class=\"colab-df-convert\" onclick=\"convertToInteractive('df-74da5e6f-02ba-4781-aad2-935419118e8d')\"\n",
              "              title=\"Convert this dataframe to an interactive table.\"\n",
              "              style=\"display:none;\">\n",
              "        \n",
              "  <svg xmlns=\"http://www.w3.org/2000/svg\" height=\"24px\"viewBox=\"0 0 24 24\"\n",
              "       width=\"24px\">\n",
              "    <path d=\"M0 0h24v24H0V0z\" fill=\"none\"/>\n",
              "    <path d=\"M18.56 5.44l.94 2.06.94-2.06 2.06-.94-2.06-.94-.94-2.06-.94 2.06-2.06.94zm-11 1L8.5 8.5l.94-2.06 2.06-.94-2.06-.94L8.5 2.5l-.94 2.06-2.06.94zm10 10l.94 2.06.94-2.06 2.06-.94-2.06-.94-.94-2.06-.94 2.06-2.06.94z\"/><path d=\"M17.41 7.96l-1.37-1.37c-.4-.4-.92-.59-1.43-.59-.52 0-1.04.2-1.43.59L10.3 9.45l-7.72 7.72c-.78.78-.78 2.05 0 2.83L4 21.41c.39.39.9.59 1.41.59.51 0 1.02-.2 1.41-.59l7.78-7.78 2.81-2.81c.8-.78.8-2.07 0-2.86zM5.41 20L4 18.59l7.72-7.72 1.47 1.35L5.41 20z\"/>\n",
              "  </svg>\n",
              "      </button>\n",
              "      \n",
              "  <style>\n",
              "    .colab-df-container {\n",
              "      display:flex;\n",
              "      flex-wrap:wrap;\n",
              "      gap: 12px;\n",
              "    }\n",
              "\n",
              "    .colab-df-convert {\n",
              "      background-color: #E8F0FE;\n",
              "      border: none;\n",
              "      border-radius: 50%;\n",
              "      cursor: pointer;\n",
              "      display: none;\n",
              "      fill: #1967D2;\n",
              "      height: 32px;\n",
              "      padding: 0 0 0 0;\n",
              "      width: 32px;\n",
              "    }\n",
              "\n",
              "    .colab-df-convert:hover {\n",
              "      background-color: #E2EBFA;\n",
              "      box-shadow: 0px 1px 2px rgba(60, 64, 67, 0.3), 0px 1px 3px 1px rgba(60, 64, 67, 0.15);\n",
              "      fill: #174EA6;\n",
              "    }\n",
              "\n",
              "    [theme=dark] .colab-df-convert {\n",
              "      background-color: #3B4455;\n",
              "      fill: #D2E3FC;\n",
              "    }\n",
              "\n",
              "    [theme=dark] .colab-df-convert:hover {\n",
              "      background-color: #434B5C;\n",
              "      box-shadow: 0px 1px 3px 1px rgba(0, 0, 0, 0.15);\n",
              "      filter: drop-shadow(0px 1px 2px rgba(0, 0, 0, 0.3));\n",
              "      fill: #FFFFFF;\n",
              "    }\n",
              "  </style>\n",
              "\n",
              "      <script>\n",
              "        const buttonEl =\n",
              "          document.querySelector('#df-74da5e6f-02ba-4781-aad2-935419118e8d button.colab-df-convert');\n",
              "        buttonEl.style.display =\n",
              "          google.colab.kernel.accessAllowed ? 'block' : 'none';\n",
              "\n",
              "        async function convertToInteractive(key) {\n",
              "          const element = document.querySelector('#df-74da5e6f-02ba-4781-aad2-935419118e8d');\n",
              "          const dataTable =\n",
              "            await google.colab.kernel.invokeFunction('convertToInteractive',\n",
              "                                                     [key], {});\n",
              "          if (!dataTable) return;\n",
              "\n",
              "          const docLinkHtml = 'Like what you see? Visit the ' +\n",
              "            '<a target=\"_blank\" href=https://colab.research.google.com/notebooks/data_table.ipynb>data table notebook</a>'\n",
              "            + ' to learn more about interactive tables.';\n",
              "          element.innerHTML = '';\n",
              "          dataTable['output_type'] = 'display_data';\n",
              "          await google.colab.output.renderOutput(dataTable, element);\n",
              "          const docLink = document.createElement('div');\n",
              "          docLink.innerHTML = docLinkHtml;\n",
              "          element.appendChild(docLink);\n",
              "        }\n",
              "      </script>\n",
              "    </div>\n",
              "  </div>\n",
              "  "
            ]
          },
          "metadata": {},
          "execution_count": 42
        }
      ]
    },
    {
      "cell_type": "code",
      "source": [
        "def print_description_clean(index):\n",
        "  example = df[df.index == index][['desc_clean', 'name', 'address']].values[0]\n",
        "  if len(example) > 0:\n",
        "    print(example[0])\n",
        "    print('Nama : ', example[1])\n",
        "    print('Alamat :', example[2])"
      ],
      "metadata": {
        "id": "m-0hxKzou0sH"
      },
      "execution_count": null,
      "outputs": []
    },
    {
      "cell_type": "code",
      "source": [
        "print_description_clean(1)"
      ],
      "metadata": {
        "colab": {
          "base_uri": "https://localhost:8080/"
        },
        "id": "dbfRefWnvc9Y",
        "outputId": "e8f88765-8bd3-4dd2-daae-98809bdc21e1"
      },
      "execution_count": null,
      "outputs": [
        {
          "output_type": "stream",
          "name": "stdout",
          "text": [
            "sheraton hotel towers offers 5 star accommodation middle green landscape bandung spacious rooms come flat screen cable tv hotel offers outdoor pool spa center restaurant mountain views wi fi access available free areas hotel elegant rooms modern interiors light wood furnishings large windows provides comfortable seating area dvd player private bathroom shower work gym enjoy body treatments spa reception staff ready serve needs 24 hours international asian dishes offered feast restaurant soft drinks served samsara lounge variety cocktails snacks also available poolside terrace sheraton bandung hotel towers 10 minute drive juanda culture park dago area various factory outlets located husein sastranegara airport 30 minute drive away\n",
            "Nama :  Sheraton Bandung Hotel & Towers\n",
            "Alamat : Jl. Ir H Juanda 390, 40135 Bandung, Indonesia\n"
          ]
        }
      ]
    },
    {
      "cell_type": "code",
      "source": [
        "df.set_index('name', inplace=True)\n",
        "tf = TfidfVectorizer(analyzer='word', ngram_range=(1, 3), min_df = 0, stop_words = 'english')\n",
        "# tf = TfidfVectorizer(analyzer='word', ngram_range=(1, 3), min_df=0, stop_words='english')\n",
        "tfidf_matrix = tf.fit_transform(df['desc_clean'])\n",
        "cos_sim = cosine_similarity(tfidf_matrix, tfidf_matrix)\n",
        "# cos_sim = cosine_similarity(tfidf_matrix, tfidf_matrix)\n",
        "cos_sim\n"
      ],
      "metadata": {
        "colab": {
          "base_uri": "https://localhost:8080/"
        },
        "id": "qo_DfPc147fB",
        "outputId": "cb18cdad-7507-4969-a917-892b0393a03d"
      },
      "execution_count": null,
      "outputs": [
        {
          "output_type": "execute_result",
          "data": {
            "text/plain": [
              "array([[1.        , 0.03481248, 0.0199805 , ..., 0.01324636, 0.04176129,\n",
              "        0.03686415],\n",
              "       [0.03481248, 1.        , 0.02372401, ..., 0.01972437, 0.03977114,\n",
              "        0.02362085],\n",
              "       [0.0199805 , 0.02372401, 1.        , ..., 0.18021868, 0.01812967,\n",
              "        0.0314635 ],\n",
              "       ...,\n",
              "       [0.01324636, 0.01972437, 0.18021868, ..., 1.        , 0.01098484,\n",
              "        0.02875464],\n",
              "       [0.04176129, 0.03977114, 0.01812967, ..., 0.01098484, 1.        ,\n",
              "        0.0357502 ],\n",
              "       [0.03686415, 0.02362085, 0.0314635 , ..., 0.02875464, 0.0357502 ,\n",
              "        1.        ]])"
            ]
          },
          "metadata": {},
          "execution_count": 44
        }
      ]
    },
    {
      "cell_type": "code",
      "source": [
        "indices = pd.Series(df.index)\n",
        "indices[:50]"
      ],
      "metadata": {
        "colab": {
          "base_uri": "https://localhost:8080/"
        },
        "id": "Fzd5q05E7Vnk",
        "outputId": "74ea561f-deec-449a-c16f-34baf8e62404"
      },
      "execution_count": null,
      "outputs": [
        {
          "output_type": "execute_result",
          "data": {
            "text/plain": [
              "0                Capital O 253 Topas Galeria Hotel\n",
              "1                  Sheraton Bandung Hotel & Towers\n",
              "2                   OYO 794 Ln 9 Bandung Residence\n",
              "3                                 OYO 226 LJ hotel\n",
              "4                          OYO 230 Maleo Residence\n",
              "5                        OYO 167 Dago's Hill Hotel\n",
              "6                   OYO 794 Ln 9 Bandung Residence\n",
              "7                       OYO 196 Horizone Residence\n",
              "8     OYO 483 Flagship Tamansari Panoramic Bandung\n",
              "9               OYO 295 Grha Ciumbuleuit Residence\n",
              "10                            OYO 193 SM Residence\n",
              "11              Capital O 874 Hotel Nyland Pasteur\n",
              "12                            OYO 352 Sabang Hotel\n",
              "13                                  Hilton Bandung\n",
              "14             InterContinental Bandung Dago Pakar\n",
              "15                                Aryaduta Bandung\n",
              "16               Art Deco Luxury Hotel & Residence\n",
              "17                            Crowne Plaza Bandung\n",
              "18          Best Western Premier La Grande Bandung\n",
              "19                         éL Royale Hotel Bandung\n",
              "20              Courtyard by Marriott Bandung Dago\n",
              "21                 Four Points by Sheraton Bandung\n",
              "22                     Mercure Bandung City Center\n",
              "23                   Swiss-Belresort Dago Heritage\n",
              "24                            OYO 228 Hotel Lodaya\n",
              "25                    Prama Grand Preanger Bandung\n",
              "26                                        P Hostel\n",
              "27                  The Trans Luxury Hotel Bandung\n",
              "28                            Grand Tjokro Bandung\n",
              "29                 Grand Mercure Bandung Setiabudi\n",
              "30                   Aston Tropicana Hotel Bandung\n",
              "31                     De Paviljoen Bandung by HIM\n",
              "32                             Sensa Hotel Bandung\n",
              "33                       Ibis Bandung Trans Studio\n",
              "34                                   Aston Pasteur\n",
              "35                              The Luxton Bandung\n",
              "36                     Holiday Inn Bandung Pasteur\n",
              "37                              Savoy Homann Hotel\n",
              "38       The Jayakarta Suites Bandung, Hotel & Spa\n",
              "39                    Arion Swiss-Belhotel Bandung\n",
              "40                                    MOXY Bandung\n",
              "41                       Ibis Styles Bandung Braga\n",
              "42                    Favehotel Premier Cihampelas\n",
              "43                           De JAVA Hotel Bandung\n",
              "44                               El Cavana Bandung\n",
              "45                 Ibis Budget Bandung Asia Africa\n",
              "46                            Ibis Bandung Pasteur\n",
              "47                                 Favehotel Braga\n",
              "48                             Ivory Hotel Bandung\n",
              "49                                  The Papandayan\n",
              "Name: name, dtype: object"
            ]
          },
          "metadata": {},
          "execution_count": 46
        }
      ]
    },
    {
      "cell_type": "code",
      "source": [
        "def recommendations(name, cos_sim = cos_sim):\n",
        "  recommended_hotel = []\n",
        "  idx = indices[indices == name].index[0]\n",
        "  score_series = pd.Series(cos_sim[idx]).sort_values(ascending = False)\n",
        "  top_10_indexes = list(score_series.iloc[1:11].index)\n",
        "  for i in top_10_indexes:\n",
        "    recommended_hotel.append(list(df.index)[i])\n",
        "\n",
        "  return recommended_hotel"
      ],
      "metadata": {
        "id": "lqZRVHC27hx1"
      },
      "execution_count": null,
      "outputs": []
    },
    {
      "cell_type": "code",
      "source": [
        "recommendations('OYO 226 LJ hotel')"
      ],
      "metadata": {
        "colab": {
          "base_uri": "https://localhost:8080/"
        },
        "id": "CA7n9UXw8Qsy",
        "outputId": "511e130c-7c98-4b82-fe4f-72965dfca047"
      },
      "execution_count": null,
      "outputs": [
        {
          "output_type": "execute_result",
          "data": {
            "text/plain": [
              "['OYO 794 Ln 9 Bandung Residence',\n",
              " 'P Hostel',\n",
              " 'OYO 352 Sabang Hotel',\n",
              " 'OYO 260 Home 33',\n",
              " 'Mogens Guesthouse',\n",
              " 'OYO 569 Cigadung Residence',\n",
              " 'Hotel Cemerlang',\n",
              " 'OYO 196 Horizone Residence',\n",
              " 'Kampioen Bed & Breakfast',\n",
              " 'OYO 794 Ln 9 Bandung Residence']"
            ]
          },
          "metadata": {},
          "execution_count": 56
        }
      ]
    }
  ]
}